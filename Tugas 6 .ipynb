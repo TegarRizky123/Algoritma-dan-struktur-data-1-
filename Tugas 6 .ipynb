{
 "cells": [
  {
   "cell_type": "code",
   "execution_count": 1,
   "metadata": {},
   "outputs": [
    {
     "name": "stdout",
     "output_type": "stream",
     "text": [
      " Nilai :  65\n",
      "kamu harus mengikuti remidi\n"
     ]
    }
   ],
   "source": [
    "#Tegar risqy yulian santoso\n",
    "\n",
    "nilai = int(input(\" Nilai : \"))\n",
    "\n",
    "if nilai <= 70:\n",
    "    print (\"kamu harus mengikuti remidi\")"
   ]
  },
  {
   "cell_type": "code",
   "execution_count": 2,
   "metadata": {},
   "outputs": [
    {
     "name": "stdout",
     "output_type": "stream",
     "text": [
      "masukkan jari - jari 7\n",
      "luas lingkaran  153.86\n",
      "lingkaran ini kecil\n"
     ]
    }
   ],
   "source": [
    "r = int(input(\"masukkan jari - jari\"))\n",
    "luas = 3.14*r*r\n",
    "print(\"luas lingkaran \", luas)\n",
    "\n",
    "if luas > 314:\n",
    "    print(\"lingkaran ini besar\")\n",
    "else:\n",
    "    print (\"lingkaran ini kecil\")"
   ]
  },
  {
   "cell_type": "code",
   "execution_count": 3,
   "metadata": {},
   "outputs": [
    {
     "name": "stdout",
     "output_type": "stream",
     "text": [
      "program yang kamu pilih?  2\n",
      "sisi:  20\n",
      "Volume Kubus 8000\n"
     ]
    }
   ],
   "source": [
    "pilihan = int (input(\"program yang kamu pilih? \"))\n",
    "\n",
    "def VBalok():\n",
    "    p=int(input(\"panjang: \"))\n",
    "    l=int(input(\"lebar: \"))\n",
    "    t=int(input(\"tinggi: \"))\n",
    "    VBalok=p*l*t\n",
    "    return VBalok\n",
    "\n",
    "def VKubus():\n",
    "    s=int(input(\"sisi: \"))\n",
    "    VKubus=s*s*s\n",
    "    return VKubus\n",
    "\n",
    "if pilihan == 1:\n",
    "    print (\"Volume Balok\", VBalok())\n",
    "    \n",
    "elif pilihan == 2 :\n",
    "    print (\"Volume Kubus\", VKubus())\n",
    "    \n",
    "else:\n",
    "    print(\"tidak ada program\")"
   ]
  },
  {
   "cell_type": "code",
   "execution_count": null,
   "metadata": {},
   "outputs": [],
   "source": []
  }
 ],
 "metadata": {
  "kernelspec": {
   "display_name": "Python 3",
   "language": "python",
   "name": "python3"
  },
  "language_info": {
   "codemirror_mode": {
    "name": "ipython",
    "version": 3
   },
   "file_extension": ".py",
   "mimetype": "text/x-python",
   "name": "python",
   "nbconvert_exporter": "python",
   "pygments_lexer": "ipython3",
   "version": "3.8.3"
  }
 },
 "nbformat": 4,
 "nbformat_minor": 4
}
