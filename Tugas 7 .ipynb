{
 "cells": [
  {
   "cell_type": "code",
   "execution_count": null,
   "metadata": {},
   "outputs": [],
   "source": []
  },
  {
   "cell_type": "code",
   "execution_count": 2,
   "metadata": {
    "scrolled": true
   },
   "outputs": [
    {
     "name": "stdout",
     "output_type": "stream",
     "text": [
      "saya tidak akan mengulangi perbuatan itu lagi\n",
      "saya tidak akan mengulangi perbuatan itu lagi\n",
      "saya tidak akan mengulangi perbuatan itu lagi\n",
      "saya tidak akan mengulangi perbuatan itu lagi\n",
      "saya tidak akan mengulangi perbuatan itu lagi\n",
      "saya tidak akan mengulangi perbuatan itu lagi\n",
      "saya tidak akan mengulangi perbuatan itu lagi\n",
      "saya tidak akan mengulangi perbuatan itu lagi\n",
      "saya tidak akan mengulangi perbuatan itu lagi\n",
      "saya tidak akan mengulangi perbuatan itu lagi\n",
      "saya tidak akan mengulangi perbuatan itu lagi\n",
      "saya tidak akan mengulangi perbuatan itu lagi\n",
      "saya tidak akan mengulangi perbuatan itu lagi\n",
      "saya tidak akan mengulangi perbuatan itu lagi\n",
      "saya tidak akan mengulangi perbuatan itu lagi\n",
      "saya tidak akan mengulangi perbuatan itu lagi\n",
      "saya tidak akan mengulangi perbuatan itu lagi\n",
      "saya tidak akan mengulangi perbuatan itu lagi\n",
      "saya tidak akan mengulangi perbuatan itu lagi\n",
      "saya tidak akan mengulangi perbuatan itu lagi\n",
      "saya tidak akan mengulangi perbuatan itu lagi\n",
      "saya tidak akan mengulangi perbuatan itu lagi\n",
      "saya tidak akan mengulangi perbuatan itu lagi\n",
      "saya tidak akan mengulangi perbuatan itu lagi\n",
      "saya tidak akan mengulangi perbuatan itu lagi\n"
     ]
    }
   ],
   "source": [
    "a = 25\n",
    "\n",
    "for i in range(a):\n",
    "    print(\"saya tidak akan mengulangi perbuatan itu lagi\")"
   ]
  },
  {
   "cell_type": "code",
   "execution_count": 9,
   "metadata": {},
   "outputs": [
    {
     "name": "stdout",
     "output_type": "stream",
     "text": [
      "nilai x = 14\n",
      "nilai x = 13\n",
      "nilai x = 12\n",
      "nilai x = 11\n",
      "nilai x = 10\n"
     ]
    }
   ],
   "source": [
    "x = 15\n",
    "\n",
    "while x> 10:\n",
    "    x -= 1\n",
    "    print(\"nilai x =\", x)"
   ]
  },
  {
   "cell_type": "code",
   "execution_count": 10,
   "metadata": {},
   "outputs": [
    {
     "name": "stdout",
     "output_type": "stream",
     "text": [
      "masukkan bilangan:  10\n",
      "10 merupakan bilangan genap\n"
     ]
    }
   ],
   "source": [
    "angka = int(input(\"masukkan bilangan: \"))\n",
    "\n",
    "if angka%2==0:\n",
    "    print(angka,\"merupakan bilangan genap\")\n",
    "else:\n",
    "    print(angka,\"merupakan bilangan ganjil\")"
   ]
  },
  {
   "cell_type": "code",
   "execution_count": 11,
   "metadata": {},
   "outputs": [
    {
     "name": "stdout",
     "output_type": "stream",
     "text": [
      "masukkan bilangan: 23\n",
      "23 merupakan angka ganjil\n"
     ]
    }
   ],
   "source": [
    "angka = int(input(\"masukkan bilangan: \"))\n",
    "\n",
    "def aganjil():\n",
    "    print(angka,\"merupakan angka ganjil\")\n",
    "def agenap():\n",
    "    print(angka,\"merupakkan angka genap\")\n",
    "    \n",
    "if angka&2==0:\n",
    "    agenap()\n",
    "else:\n",
    "    aganjil()"
   ]
  }
 ],
 "metadata": {
  "kernelspec": {
   "display_name": "Python 3",
   "language": "python",
   "name": "python3"
  },
  "language_info": {
   "codemirror_mode": {
    "name": "ipython",
    "version": 3
   },
   "file_extension": ".py",
   "mimetype": "text/x-python",
   "name": "python",
   "nbconvert_exporter": "python",
   "pygments_lexer": "ipython3",
   "version": "3.8.3"
  }
 },
 "nbformat": 4,
 "nbformat_minor": 4
}
